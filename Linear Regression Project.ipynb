{
 "cells": [
  {
   "cell_type": "code",
   "execution_count": 1,
   "metadata": {},
   "outputs": [],
   "source": [
    "#  Linear Regression Project"
   ]
  },
  {
   "cell_type": "markdown",
   "metadata": {},
   "source": [
    "Stock market prediction\n",
    "1.  Download HW3 data from the folder data in Documents on Blackboard, which lists daily signal and price values of S&P 500.\n",
    "\t\n",
    "2.  The aim of this project is to test a data source (signal, second column in data.csv) which claims to be predictive of future returns of the SP500 index (spy_close_price, third column in data.csv).  We use SPY (SPDR S&P 500 ETF) as a proxy for the SP500 index. \n",
    "\n",
    "3.  The signal and spy_close_price are both received at the same time at the end of the day on the date listed in column 1.  We do not know how the signal is generated or have a prior conviction about the forecast horizon over which the signal is supposed to be effective, nor its stationarity. \n",
    "\n",
    "4.  The first step in this endeavor is data cleaning.  Assume all values in data.csv are potentially suspect, and please identify any errors in the data, flag them with a note, and suggest a corrected value or if advisable, you may choose to ignore them for purposes of your analysis.  Please explain what types of analysis you did to identify the errors, and provide any assumptions/intuition/formulas/scripts you may have used to help you find them.\n",
    "\n",
    "5.  Given the cleaned/censored version of the data you created in (4), please perform an analysis of the predictive power of signal with respect to spy_close_price.  This analysis must be based on linear regression. report the performace of linear regression model, scatter plots befor and after clearning the data. and explain if the signal can be a good predictive for the stock price. Also compute the correlation between the signal and price.\n",
    "\n",
    "\n",
    "Please document all experiment(s) you performed (including relevant code, package references, etc) and summarize your conclusions about the viability and shortcomings of this signal as a predictor of spy_close_price, including any materials you feel are appropriate to support your conclusions (eg, graphs, tables, etc).  Use this jupyter notebook file.\n",
    "\n",
    "\n"
   ]
  },
  {
   "cell_type": "markdown",
   "metadata": {},
   "source": [
    "#  Importing the Data "
   ]
  },
  {
   "cell_type": "code",
   "execution_count": 4,
   "metadata": {},
   "outputs": [
    {
     "data": {
      "text/html": [
       "<div>\n",
       "<style scoped>\n",
       "    .dataframe tbody tr th:only-of-type {\n",
       "        vertical-align: middle;\n",
       "    }\n",
       "\n",
       "    .dataframe tbody tr th {\n",
       "        vertical-align: top;\n",
       "    }\n",
       "\n",
       "    .dataframe thead th {\n",
       "        text-align: right;\n",
       "    }\n",
       "</style>\n",
       "<table border=\"1\" class=\"dataframe\">\n",
       "  <thead>\n",
       "    <tr style=\"text-align: right;\">\n",
       "      <th></th>\n",
       "      <th>date</th>\n",
       "      <th>signal</th>\n",
       "      <th>spy_close_price</th>\n",
       "    </tr>\n",
       "  </thead>\n",
       "  <tbody>\n",
       "    <tr>\n",
       "      <th>0</th>\n",
       "      <td>20120103</td>\n",
       "      <td>3.107767</td>\n",
       "      <td>127.495</td>\n",
       "    </tr>\n",
       "    <tr>\n",
       "      <th>1</th>\n",
       "      <td>20120104</td>\n",
       "      <td>3.107282</td>\n",
       "      <td>127.700</td>\n",
       "    </tr>\n",
       "    <tr>\n",
       "      <th>2</th>\n",
       "      <td>20120105</td>\n",
       "      <td>3.099757</td>\n",
       "      <td>128.040</td>\n",
       "    </tr>\n",
       "    <tr>\n",
       "      <th>3</th>\n",
       "      <td>20120106</td>\n",
       "      <td>3.134223</td>\n",
       "      <td>127.710</td>\n",
       "    </tr>\n",
       "    <tr>\n",
       "      <th>4</th>\n",
       "      <td>20120109</td>\n",
       "      <td>3.135922</td>\n",
       "      <td>128.020</td>\n",
       "    </tr>\n",
       "  </tbody>\n",
       "</table>\n",
       "</div>"
      ],
      "text/plain": [
       "       date    signal  spy_close_price\n",
       "0  20120103  3.107767          127.495\n",
       "1  20120104  3.107282          127.700\n",
       "2  20120105  3.099757          128.040\n",
       "3  20120106  3.134223          127.710\n",
       "4  20120109  3.135922          128.020"
      ]
     },
     "execution_count": 4,
     "metadata": {},
     "output_type": "execute_result"
    }
   ],
   "source": [
    "# Import statements\n",
    "import pandas as pd\n",
    "import numpy as np\n",
    "\n",
    "# Reading the file\n",
    "filepath = '/Users/asadimam270/Downloads/data.csv'\n",
    "data = pd.read_csv(filepath)\n",
    "data.head()"
   ]
  },
  {
   "cell_type": "markdown",
   "metadata": {},
   "source": [
    "                        Separating independent and dependent variables"
   ]
  },
  {
   "cell_type": "code",
   "execution_count": 5,
   "metadata": {},
   "outputs": [],
   "source": [
    "# Dependent Variable\n",
    "X = data[\"signal\"].values\n",
    "\n",
    "# Independent Variable \n",
    "Y = data[\"spy_close_price\"].values"
   ]
  },
  {
   "cell_type": "markdown",
   "metadata": {},
   "source": [
    "# Visualizing the Uncleaned data"
   ]
  },
  {
   "cell_type": "code",
   "execution_count": 25,
   "metadata": {},
   "outputs": [
    {
     "data": {
      "text/plain": [
       "<matplotlib.collections.PathCollection at 0x1a1fbd17f0>"
      ]
     },
     "execution_count": 25,
     "metadata": {},
     "output_type": "execute_result"
    },
    {
     "data": {
      "image/png": "[encoded data removed]",
      "text/plain": [
       "<Figure size 432x288 with 1 Axes>"
      ]
     },
     "metadata": {
      "needs_background": "light"
     },
     "output_type": "display_data"
    }
   ],
   "source": [
    "import matplotlib.pyplot as plt\n",
    "%matplotlib inline\n",
    "\n",
    "# Scatterplot \n",
    "plt.scatter(X,Y)"
   ]
  },
  {
   "cell_type": "markdown",
   "metadata": {},
   "source": [
    "#                              Cleaning the Data for Analysis"
   ]
  },
  {
   "cell_type": "markdown",
   "metadata": {},
   "source": [
    "                                    Missing Value Test"
   ]
  },
  {
   "cell_type": "code",
   "execution_count": 7,
   "metadata": {},
   "outputs": [
    {
     "data": {
      "text/plain": [
       "date               0\n",
       "signal             0\n",
       "spy_close_price    0\n",
       "dtype: int64"
      ]
     },
     "execution_count": 7,
     "metadata": {},
     "output_type": "execute_result"
    }
   ],
   "source": [
    "data.isnull().sum()"
   ]
  },
  {
   "cell_type": "markdown",
   "metadata": {},
   "source": [
    "######                        Dealing With Outliers of the Dependent Variable"
   ]
  },
  {
   "cell_type": "code",
   "execution_count": 8,
   "metadata": {},
   "outputs": [
    {
     "data": {
      "image/png": "[encoded data removed]",
      "text/plain": [
       "<Figure size 432x288 with 1 Axes>"
      ]
     },
     "metadata": {
      "needs_background": "light"
     },
     "output_type": "display_data"
    }
   ],
   "source": [
    "# Visualizing outliers for Y\n",
    "import matplotlib.pyplot as plt\n",
    "%matplotlib inline\n",
    "\n",
    "# create box and whisker plot\n",
    "plt.boxplot(Y)\n",
    "# show line plot\n",
    "plt.show()"
   ]
  },
  {
   "cell_type": "code",
   "execution_count": 9,
   "metadata": {},
   "outputs": [
    {
     "name": "stdout",
     "output_type": "stream",
     "text": [
      "Replacing all elements of the dependent variable which are greater than 500 with mean\n",
      "[127.495      127.7        128.04       127.71       128.02\n",
      " 129.13       129.2        129.51       128.84       129.34\n",
      " 130.77       131.46       131.95       131.61       131.46\n",
      " 132.56       131.88       131.82       131.37       131.32\n",
      " 132.47       132.68       134.54       134.45       134.79\n",
      " 135.19       135.36       134.361      135.36       135.19\n",
      " 134.56       136.049      136.41       136.47       136.032\n",
      " 136.631      136.93       137.16       137.559      137.02\n",
      " 137.73       137.312      136.75       134.75       135.69\n",
      " 137.04       137.57       137.58       140.062      139.91\n",
      " 140.72       140.3        140.85       140.44       140.21\n",
      " 139.2        139.65       141.61       141.17       140.47\n",
      " 140.23       140.81       141.84       141.26       139.86\n",
      " 139.79       138.22       135.9        137.         138.79\n",
      " 137.14       137.05       139.082      138.61       137.72\n",
      " 137.95       136.79       137.31       139.19       140.16\n",
      " 140.39       139.87       140.74       140.325      139.25\n",
      " 137.         137.1        136.55       135.74       136.02\n",
      " 135.61       134.11       133.34       132.829      130.86\n",
      " 129.74       131.97       132.2        132.27       132.53\n",
      " 132.1        133.7        131.76       131.47       128.16\n",
      " 128.1        129.07       131.97       132.05       133.1\n",
      " 131.415      132.92       132.07       133.47       134.14\n",
      " 134.4        135.7        135.48       132.44       133.46\n",
      " 131.32       131.98       133.173      132.79       136.105\n",
      " 136.51       137.412      136.79       135.49       135.32\n",
      " 134.14       134.16       133.51       135.75       135.43\n",
      " 136.36       137.37       137.73       136.47       135.09\n",
      " 133.925      133.96       136.17       138.675      138.68\n",
      " 137.71       137.59       136.64       139.349      139.62\n",
      " 140.32       140.49       140.61       140.84       140.77\n",
      " 140.79       140.95       141.99       142.18       142.19\n",
      " 141.76       141.82       140.665      141.51       141.54\n",
      " 141.4        141.51       140.49       141.16       141.03\n",
      " 140.91       143.77       144.33       143.51       143.91\n",
      " 144.39       146.59       147.24       146.74       146.62\n",
      " 146.7        146.71       145.87       145.645      144.1\n",
      " 143.295      144.64       143.97       144.345      144.5\n",
      " 145.09       146.125      146.14       145.642      144.2\n",
      " 143.28       143.36       142.89       144.08       145.54\n",
      " 146.2        145.82       143.3896     143.41       141.42\n",
      " 141.02       141.43       141.35       141.35       142.83\n",
      " 141.56       141.8486     142.96       139.72       138.04\n",
      " 138.16       138.265      137.79       135.9299     135.7\n",
      " 136.37       139.13       139.19       139.45       141.35\n",
      " 141.05       140.33       141.46       142.12       142.155\n",
      " 141.45       141.25       141.5        141.98       142.415\n",
      " 142.473      143.44       143.51       142.63       142.1051\n",
      " 143.77       145.37       144.29       145.12       142.79\n",
      " 142.35       141.75       141.5616     140.03       142.41\n",
      " 146.06       145.7341     146.37       145.9695     145.5496\n",
      " 145.92       147.08       147.07       148.33       149.13\n",
      " 149.37       149.41       150.25       150.07       150.66\n",
      " 150.07       149.7        151.24       149.535      151.05\n",
      " 151.16       150.96       151.8        151.77       152.02\n",
      " 152.151      152.29       152.11       153.25       151.34\n",
      " 150.42       151.89       149.         150.02       151.91\n",
      " 151.61       152.11       152.92       154.29       154.5\n",
      " 154.776      155.44       156.03       155.68       155.905\n",
      " 156.73       155.83       154.97       154.61       155.69\n",
      " 154.359      155.6        154.95       156.19       156.19\n",
      " 156.67       156.05       156.82       155.23       155.86\n",
      " 155.158      156.21       156.75       158.67       159.19\n",
      " 158.8        155.118      157.41       155.11       154.14\n",
      " 155.48       156.17       157.78       157.88       158.52\n",
      " 158.24       159.3        159.68       158.28       159.75\n",
      " 161.368      161.78       162.5999     163.34       162.881\n",
      " 163.41       163.54       165.23       166.115      165.34\n",
      " 166.94       166.93       167.17       165.93       165.45\n",
      " 165.308      166.3        165.22       165.83       163.445\n",
      " 164.35       163.56       161.272      162.73       164.8\n",
      " 164.8        163.098      161.75       164.21       163.175\n",
      " 164.44       165.735      163.45       159.4        159.07\n",
      " 157.06       158.575      160.14       161.08       160.42\n",
      " 161.36       161.21       161.28       163.02       163.945\n",
      " 165.13       165.192      167.44       167.51       168.155\n",
      " 167.525      167.9501     168.87       169.17       169.5\n",
      " 169.14       168.52       168.93       169.11       168.59\n",
      " 168.588      168.71       170.66       170.95       170.7\n",
      " 169.73       169.18       169.8        169.31       169.111\n",
      " 169.61       168.74       166.38       165.83       166.\n",
      " 163.33       163.91       164.17       163.65       164.77\n",
      " 165.58       164.56       166.06       166.62       164.39\n",
      " 165.75       165.96       166.04       167.634      168.87\n",
      " 169.4        163.16936882 163.16936882 163.16936882 171.07\n",
      " 173.051      172.76       170.72       169.93       169.53\n",
      " 169.04       169.69       168.909      168.01       169.34\n",
      " 169.18       167.62       168.89       167.43       165.48\n",
      " 165.6        169.17       170.26       170.94       169.7\n",
      " 172.07       173.22       174.388      174.4        175.41\n",
      " 174.57       175.15       175.95       176.23       177.17\n",
      " 176.29       175.79       176.21       176.83       176.27\n",
      " 177.17       174.93       177.29       177.32       176.96\n",
      " 178.38       179.27       180.05       179.42       179.03\n",
      " 178.47       179.91       180.81       180.63       180.68\n",
      " 181.12       181.         180.53       179.75       179.73\n",
      " 178.94       180.94       181.4        180.75       178.72\n",
      " 178.13       178.11       179.216      178.65       181.7\n",
      " 181.49       181.56       182.53       182.93       182.93\n",
      " 183.855      183.845      183.82       184.69       184.69\n",
      " 182.885      182.36       183.48       183.52       183.64\n",
      " 184.14       181.685      183.67       184.66       184.42\n",
      " 183.635      184.18       184.3        182.79       178.89\n",
      " 178.01       179.07       177.35       179.23       178.18\n",
      " 174.17       175.385      175.17       177.48       179.68\n",
      " 179.68       179.68       181.98       182.07       183.01\n",
      " 184.02       184.24       183.02       184.1        183.89\n",
      " 184.91       184.84       184.85       185.82       186.29\n",
      " 184.98       187.58       187.75       188.18       188.26\n",
      " 188.16       187.23       187.28       185.18       184.66\n",
      " 186.33       187.66       186.66       187.747      186.2\n",
      " 185.43       186.31       184.97       184.58       185.49\n",
      " 187.01       188.25       188.88       188.63       186.4\n",
      " 184.34       185.1        187.09       183.155      181.51\n",
      " 182.9401     184.2        186.125      186.39       187.04\n",
      " 187.89       187.45       187.83       186.29       186.875\n",
      " 187.75       188.31       188.325      188.06       188.42\n",
      " 186.78       187.88       187.675      187.96       189.785\n",
      " 189.96       189.06       187.4        188.05       188.74\n",
      " 187.55       189.13       189.59       190.35       191.52\n",
      " 191.38       192.37       192.68       192.895      192.8\n",
      " 193.19       194.45       195.375      195.58       195.6\n",
      " 194.92       193.54       194.13       194.29       194.83\n",
      " 196.255      196.48       195.94       195.88       194.7\n",
      " 195.58       195.44       195.82       195.72       197.03\n",
      " 197.23       198.2        197.51       196.24       197.12\n",
      " 196.34       196.61       197.6        197.23       197.96\n",
      " 195.71       197.7099     197.34       198.2        198.64\n",
      " 198.65       197.72       197.8        196.95       196.98\n",
      " 193.09       192.5        193.89       192.01       192.07\n",
      " 191.03       193.24       193.795      193.53       194.84\n",
      " 195.76       195.72       197.36       198.39       198.92\n",
      " 199.5        199.19       200.2        200.33       200.25\n",
      " 200.14       200.71      ]\n"
     ]
    }
   ],
   "source": [
    "print(\"Replacing all elements of the dependent variable which are greater than 500 with mean\")\n",
    "Y[Y > 500] = Y.mean()\n",
    "print(Y)"
   ]
  },
  {
   "cell_type": "code",
   "execution_count": 10,
   "metadata": {},
   "outputs": [
    {
     "data": {
      "image/png": "[encoded data removed]",
      "text/plain": [
       "<Figure size 432x288 with 1 Axes>"
      ]
     },
     "metadata": {
      "needs_background": "light"
     },
     "output_type": "display_data"
    }
   ],
   "source": [
    "# create box and whisker plot\n",
    "plt.boxplot(Y)\n",
    "# show line plot\n",
    "plt.show()"
   ]
  },
  {
   "cell_type": "markdown",
   "metadata": {},
   "source": [
    "######                        Dealing With Outliers of the Independent Variable"
   ]
  },
  {
   "cell_type": "code",
   "execution_count": 24,
   "metadata": {},
   "outputs": [
    {
     "data": {
      "image/png": "[encoded data removed]",
      "text/plain": [
       "<Figure size 432x288 with 1 Axes>"
      ]
     },
     "metadata": {
      "needs_background": "light"
     },
     "output_type": "display_data"
    }
   ],
   "source": [
    "# Visualizing outliers for X\n",
    "import matplotlib.pyplot as plt\n",
    "%matplotlib inline\n",
    "\n",
    "# create box and whisker plot\n",
    "plt.boxplot(X)\n",
    "# show line plot\n",
    "plt.show()"
   ]
  },
  {
   "cell_type": "code",
   "execution_count": 12,
   "metadata": {},
   "outputs": [
    {
     "name": "stdout",
     "output_type": "stream",
     "text": [
      "Replacing all elements of the independent variable which are greater than 100 with mean\n",
      "[ 3.10776699e+00  3.10728155e+00  3.09975728e+00  3.13422330e+00\n",
      "  3.13592233e+00  3.14344660e+00  3.12718447e+00  3.13932039e+00\n",
      "  3.17402913e+00  3.19077670e+00  3.20266990e+00  3.19441748e+00\n",
      "  3.19077670e+00  3.21747573e+00  3.20097087e+00  3.19951456e+00\n",
      "  3.18859223e+00  3.18737864e+00  3.21529126e+00  3.22038835e+00\n",
      "  3.26334951e+00  3.26553398e+00  3.27160194e+00  3.28131068e+00\n",
      "  3.28543689e+00  3.26118932e+00  3.28543689e+00  3.28131068e+00\n",
      "  3.26601942e+00  3.30216019e+00  3.31092233e+00  3.31237864e+00\n",
      "  3.30174757e+00  3.31628641e+00  3.32354369e+00  3.32912621e+00\n",
      "  3.33881068e+00  3.32572816e+00  3.34296117e+00  3.33281553e+00\n",
      "  3.31917476e+00  3.29344660e+00  3.27063107e+00  3.32621359e+00\n",
      "  3.33907767e+00  3.33932039e+00  3.39956311e+00  3.39587379e+00\n",
      "  3.41553398e+00  3.40533981e+00  3.41868932e+00  3.40873786e+00\n",
      "  3.40315534e+00  3.37864078e+00  3.38956311e+00  3.43713592e+00\n",
      "  3.42645631e+00  3.40946602e+00  3.40364078e+00  3.41771845e+00\n",
      "  3.44271845e+00  3.42864078e+00  3.39466019e+00  3.39296117e+00\n",
      "  3.35485437e+00  3.29854369e+00  3.32524272e+00  3.36868932e+00\n",
      "  3.32864078e+00  3.32645631e+00  3.37577670e+00  3.36432039e+00\n",
      "  3.34271845e+00  3.34830097e+00  3.32014563e+00  3.33276699e+00\n",
      "  3.37839806e+00  3.40194175e+00  3.40752427e+00  3.39490291e+00\n",
      "  3.41601942e+00  3.40594660e+00  3.31432039e+00  3.32524272e+00\n",
      "  3.32766990e+00  3.37985437e+00  3.29466019e+00  3.30145631e+00\n",
      "  3.29150485e+00  3.25509709e+00  3.23640777e+00  3.22400485e+00\n",
      "  3.17621359e+00  3.14902913e+00  3.20315534e+00  3.20873786e+00\n",
      "  3.21043689e+00  3.21674757e+00  3.20631068e+00  3.24514563e+00\n",
      "  3.19805825e+00  3.19101942e+00  3.11067961e+00  3.10922330e+00\n",
      "  3.20509709e+00  3.20315534e+00  3.13276699e+00  3.23058252e+00\n",
      "  3.18968447e+00  3.22621359e+00  3.20558252e+00  3.23956311e+00\n",
      "  3.25582524e+00  3.26213592e+00  3.29368932e+00  3.28834952e+00\n",
      "  3.21456311e+00  3.23932039e+00  3.18737864e+00  3.20339806e+00\n",
      "  3.23235437e+00  3.22305825e+00  3.30351942e+00  3.31334952e+00\n",
      "  3.33524272e+00  3.28446602e+00  3.28859223e+00  3.32014563e+00\n",
      "  3.25582524e+00  3.25631068e+00  3.24053398e+00  3.29490291e+00\n",
      "  3.28713592e+00  3.30970874e+00  3.33422330e+00  3.34296117e+00\n",
      "  3.31237864e+00  3.27888350e+00  3.25060680e+00  3.25145631e+00\n",
      "  3.30509709e+00  3.36589806e+00  3.36601942e+00  3.34247573e+00\n",
      "  3.33956311e+00  3.31650485e+00  3.40582524e+00  3.38883495e+00\n",
      "  3.38225728e+00  3.40995146e+00  3.41286408e+00  3.41844660e+00\n",
      "  3.41674757e+00  3.41723301e+00  3.42111651e+00  3.44635922e+00\n",
      "  3.45097087e+00  3.45121359e+00  3.44077670e+00  3.44223301e+00\n",
      "  3.41419903e+00  3.43470874e+00  3.43543689e+00  3.43203884e+00\n",
      "  3.43470874e+00  3.40995146e+00  3.42621359e+00  3.42305825e+00\n",
      "  3.42014563e+00  3.50315534e+00  3.48956311e+00  3.48325243e+00\n",
      "  3.49296117e+00  3.50461165e+00  3.55800971e+00  3.57378641e+00\n",
      "  3.56165048e+00  3.55873786e+00  3.56067961e+00  3.56092233e+00\n",
      "  3.54053398e+00  3.53507282e+00  3.49757282e+00  3.47803398e+00\n",
      "  3.51067961e+00  3.49441748e+00  3.50351942e+00  3.50728155e+00\n",
      "  3.54708738e+00  3.54672330e+00  3.53500000e+00  3.52160194e+00\n",
      "  3.50000000e+00  3.47766990e+00  3.47961165e+00  3.46820388e+00\n",
      "  3.49708738e+00  3.53252427e+00  3.54854369e+00  3.53932039e+00\n",
      "  3.48033010e+00  3.48082524e+00  3.43252427e+00  3.42281553e+00\n",
      "  3.43276699e+00  3.43082524e+00  3.43082524e+00  3.46674757e+00\n",
      "  3.43592233e+00  3.46990291e+00  3.44292718e+00  3.39126214e+00\n",
      "  3.35048544e+00  3.35339806e+00  3.35594660e+00  3.34441748e+00\n",
      "  3.29926942e+00  3.29368932e+00  3.30995146e+00  3.37694175e+00\n",
      "  3.37839806e+00  3.38470874e+00  3.43082524e+00  3.42354369e+00\n",
      "  3.40606796e+00  3.43349515e+00  3.44951456e+00  3.45036408e+00\n",
      "  3.43325243e+00  3.42839806e+00  3.45667476e+00  3.44611650e+00\n",
      "  3.43446602e+00  3.45808252e+00  3.48155340e+00  3.48325243e+00\n",
      "  3.46189320e+00  3.44915291e+00  3.48956311e+00  3.52839806e+00\n",
      "  3.50218447e+00  3.52233010e+00  3.46577670e+00  3.45509709e+00\n",
      "  3.44053398e+00  3.43596117e+00  3.39878641e+00  3.45655340e+00\n",
      "  3.54514563e+00  3.53723544e+00  3.55266990e+00  3.54294903e+00\n",
      "  3.53275728e+00  3.54174757e+00  3.56990291e+00  3.56966019e+00\n",
      "  3.56723301e+00  3.56966019e+00  3.62548544e+00  3.62645631e+00\n",
      "  3.64684466e+00  3.64247573e+00  3.65679612e+00  3.64247573e+00\n",
      "  3.63349515e+00  3.67087379e+00  3.62949029e+00  3.66893204e+00\n",
      "  3.66626214e+00  3.66407767e+00  3.68446602e+00  3.68373786e+00\n",
      "  3.68980583e+00  3.69298544e+00  3.69635922e+00  3.69199029e+00\n",
      "  3.71966019e+00  3.67330097e+00  3.65097087e+00  3.68665048e+00\n",
      "  3.61650485e+00  3.64126214e+00  3.68713592e+00  3.67985437e+00\n",
      "  3.69199029e+00  3.71165048e+00  3.75669903e+00  3.75000000e+00\n",
      "  3.74490291e+00  3.77281553e+00  3.78713592e+00  3.77864078e+00\n",
      "  3.78410194e+00  3.80412621e+00  3.78228155e+00  3.76140777e+00\n",
      "  3.75266990e+00  3.77888350e+00  3.74657767e+00  3.77669903e+00\n",
      "  3.76092233e+00  3.79101942e+00  3.79101942e+00 -3.80266990e+00\n",
      "  3.78762136e+00  3.80631068e+00  3.86383495e+00  3.85436893e+00\n",
      "  3.85121359e+00  3.80461165e+00  3.79150485e+00  3.76500000e+00\n",
      "  3.82063107e+00  3.76480582e+00  3.74126214e+00  3.77378641e+00\n",
      "  3.79053398e+00  3.82961165e+00  3.83203884e+00  3.84757282e+00\n",
      "  3.84077670e+00  3.86650485e+00  3.87572816e+00  3.84174757e+00\n",
      "  3.87742718e+00  3.91669903e+00  3.92669903e+00  3.94659951e+00\n",
      "  3.96626214e+00  3.96456311e+00  3.95342233e+00  3.96941748e+00\n",
      "  4.01043689e+00  4.03191748e+00  4.01310680e+00  4.05194175e+00\n",
      "  4.05169903e+00  4.05752427e+00  4.02742718e+00  4.01577670e+00\n",
      "  4.01233010e+00  4.03640777e+00  4.01019417e+00  4.02500000e+00\n",
      "  3.96711165e+00  3.98907767e+00  3.96990291e+00  3.91436893e+00\n",
      "  3.94975728e+00  4.00000000e+00  4.00000000e+00  3.95868932e+00\n",
      "  3.92597087e+00  3.98567961e+00  3.96055825e+00  3.99126214e+00\n",
      "  4.02269417e+00  3.96723301e+00  3.86893204e+00  3.86092233e+00\n",
      "  3.81213592e+00  3.84890777e+00  3.88689320e+00  3.90970874e+00\n",
      "  3.89368932e+00  3.91650485e+00  3.91286408e+00  3.91456311e+00\n",
      "  3.95679612e+00  3.97924757e+00  4.06577670e+00  4.06407767e+00\n",
      "  4.00951456e+00  4.00800971e+00  4.08143204e+00  4.06614078e+00\n",
      "  4.07645874e+00  4.09878641e+00  4.10606796e+00  4.11407767e+00\n",
      "  4.10533981e+00  4.09029126e+00  4.10024272e+00  4.10461165e+00\n",
      "  4.09199029e+00  4.09194175e+00  4.09490291e+00  4.14223301e+00\n",
      "  4.14927185e+00  4.14320388e+00  4.11966019e+00  4.10631068e+00\n",
      "  4.12135922e+00  4.10946602e+00  4.10463592e+00  4.11674757e+00\n",
      "  4.09563107e+00  4.03834952e+00  4.02500000e+00  3.99927184e+00\n",
      "  4.01893204e+00  3.99417476e+00  4.03058252e+00  4.04417476e+00\n",
      "  4.02912621e+00  3.96432039e+00  3.97839806e+00  3.98470874e+00\n",
      "  3.97208738e+00  3.99004854e+00  3.99004854e+00  3.99004854e+00\n",
      "  3.99004854e+00  3.99004854e+00  3.99004854e+00  3.99004854e+00\n",
      "  3.99004854e+00  3.99004854e+00  4.13373786e+00  4.15218447e+00\n",
      "  4.20026699e+00  4.19320388e+00  4.14368932e+00  4.12451456e+00\n",
      "  4.11480583e+00  4.10291262e+00  4.11868932e+00  4.09973301e+00\n",
      "  4.07791262e+00  4.11019418e+00  4.10631068e+00  4.06844660e+00\n",
      "  4.09927184e+00  4.06383495e+00  4.00000000e+00  4.10606796e+00\n",
      "  4.01941748e+00  4.01650485e+00  4.14902913e+00  4.11893204e+00\n",
      "  4.17645631e+00  4.20436893e+00  4.23271845e+00  4.23300971e+00\n",
      "  4.25752427e+00  4.23713592e+00  4.25121359e+00  4.27063107e+00\n",
      "  4.27742718e+00  4.30024272e+00  4.27888349e+00  4.26674757e+00\n",
      "  4.27694175e+00  4.29199029e+00  4.27839806e+00  4.30024272e+00\n",
      "  4.24587379e+00  4.30315534e+00  4.30388350e+00  5.16660281e+00\n",
      "  5.16660281e+00  4.35121359e+00  4.37014563e+00  4.35485437e+00\n",
      "  4.34538835e+00  4.33179612e+00  4.36674757e+00  4.38859223e+00\n",
      "  4.38422330e+00  4.38543689e+00  4.39611651e+00  4.39320388e+00\n",
      "  4.38179612e+00  4.36286408e+00  4.36237864e+00  4.34320388e+00\n",
      "  4.39174757e+00  4.40291262e+00  4.38713592e+00  4.33786408e+00\n",
      "  4.32354369e+00  4.32305825e+00  4.34990291e+00  4.33616505e+00\n",
      "  4.41019417e+00  4.40509709e+00  4.40679612e+00  4.43033981e+00\n",
      "  4.44004854e+00  4.46250000e+00  4.46225728e+00  4.46165048e+00\n",
      "  4.48276699e+00  4.43980582e+00  4.43980582e+00  4.43895631e+00\n",
      "  4.42621359e+00  4.45339806e+00  4.45436893e+00  4.45436893e+00\n",
      "  4.45728155e+00  4.40983010e+00  4.45800971e+00  4.48203883e+00\n",
      "  4.47621359e+00  4.45716019e+00  4.47038835e+00  4.47330097e+00\n",
      "  4.43665049e+00  4.34199029e+00  4.32063107e+00  4.34635922e+00\n",
      "  4.30461165e+00  4.35024272e+00  4.32475728e+00  4.22742718e+00\n",
      "  4.25691748e+00  4.25169903e+00  4.30776699e+00  4.36116505e+00\n",
      "  4.41917476e+00  4.41699029e+00  4.36917476e+00  4.44199029e+00\n",
      "  4.46650485e+00  4.46650485e+00  4.46650485e+00  4.44223301e+00\n",
      "  4.46844660e+00  4.46334951e+00  4.48810680e+00  4.48640777e+00\n",
      "  4.48665049e+00  4.51019417e+00  4.52160194e+00  4.48980583e+00\n",
      "  4.55291262e+00  4.55000000e+00  4.56000000e+00  4.56000000e+00\n",
      "  4.56000000e+00  4.54000000e+00  4.54563107e+00  4.49466019e+00\n",
      "  4.48203883e+00  4.52257282e+00  4.55485437e+00  4.53058252e+00\n",
      "  4.55696602e+00  4.51941748e+00  4.50072816e+00  4.52208738e+00\n",
      "  4.48956311e+00  4.48009709e+00  4.50218447e+00  4.53907767e+00\n",
      "  4.56917476e+00  4.58446602e+00  4.57839806e+00  4.52427185e+00\n",
      "  4.47427184e+00  4.40558252e+00  4.44550971e+00  4.49271845e+00\n",
      "  4.54101942e+00  4.44029369e+00  4.47087379e+00  4.51759709e+00\n",
      "  4.52402913e+00  4.53980583e+00  4.56043700e-03  4.54975728e-01\n",
      "  4.55898058e-01  4.52160194e+00  4.53580097e+00  4.55703884e+00\n",
      "  4.57063107e+00  4.57099515e+00  4.56456311e+00  4.57330097e+00\n",
      "  4.53349515e+00  4.56019418e+00  4.60643204e+00  4.56213592e+00\n",
      "  4.55521845e+00  4.61067961e+00  4.58883495e+00  4.54854369e+00\n",
      "  4.56432039e+00  4.58106796e+00  4.55218447e+00  4.59053398e+00\n",
      "  4.60169903e+00  4.62014563e+00  4.64854369e+00  4.64514563e+00\n",
      "  4.66917476e+00  4.67669903e+00  4.68191748e+00  4.67961165e+00\n",
      "  4.68907767e+00  4.71966019e+00  4.74211165e+00  4.74757282e+00\n",
      "  4.74708738e+00  4.73106796e+00  4.69757282e+00  4.71189320e+00\n",
      "  4.71577670e+00  4.72888349e+00  4.76347087e+00  4.76893204e+00\n",
      "  4.75582524e+00  4.75436893e+00  4.72572815e+00  4.74708738e+00\n",
      "  4.74368932e+00  4.75291262e+00  4.75048544e+00  4.78228155e+00\n",
      "  4.78713592e+00  4.81067961e+00  4.79393204e+00  4.78446602e+00\n",
      "  4.77208738e+00  4.76553398e+00  4.76310680e+00  4.79611650e+00\n",
      "  4.78713592e+00  4.80485437e+00  4.75024272e+00  4.79878398e+00\n",
      "  4.78980583e+00  4.81067961e+00  4.82135922e+00  4.82160194e+00\n",
      "  4.79902913e+00  4.80097087e+00  4.78033981e+00  4.78106796e+00\n",
      "  4.68665049e+00  4.67233010e+00  4.70606796e+00  4.66043689e+00\n",
      "  4.66189320e+00  4.63665048e+00  4.70376214e+00  4.69733010e+00\n",
      "  4.69029126e+00  4.72912621e+00  4.75145631e+00  4.75048544e+00\n",
      "  4.79029126e+00  4.81529126e+00  4.82815534e+00  4.84223301e+00\n",
      "  4.83470874e+00  4.85922330e+00  4.86237864e+00  4.86043689e+00\n",
      "  4.85776699e+00  4.87160194e+00  4.86917476e+00  4.86650485e+00\n",
      "  4.85946845e+00  4.88131068e+00  4.86868932e+00]\n"
     ]
    }
   ],
   "source": [
    "print(\"Replacing all elements of the independent variable which are greater than 100 with mean\")\n",
    "X[X > 100] = X.mean()\n",
    "print(X)"
   ]
  },
  {
   "cell_type": "code",
   "execution_count": 13,
   "metadata": {},
   "outputs": [
    {
     "data": {
      "image/png": "[encoded data removed]",
      "text/plain": [
       "<Figure size 432x288 with 1 Axes>"
      ]
     },
     "metadata": {
      "needs_background": "light"
     },
     "output_type": "display_data"
    }
   ],
   "source": [
    "# create box and whisker plot\n",
    "plt.boxplot(X)\n",
    "# show line plot\n",
    "plt.show()"
   ]
  },
  {
   "cell_type": "code",
   "execution_count": 14,
   "metadata": {},
   "outputs": [
    {
     "name": "stdout",
     "output_type": "stream",
     "text": [
      "Now Replacing all elements of the independent variable which are less than 2 with mean\n",
      "[3.10776699 3.10728155 3.09975728 3.1342233  3.13592233 3.1434466\n",
      " 3.12718447 3.13932039 3.17402913 3.1907767  3.2026699  3.19441748\n",
      " 3.1907767  3.21747573 3.20097087 3.19951456 3.18859223 3.18737864\n",
      " 3.21529126 3.22038835 3.26334951 3.26553398 3.27160194 3.28131068\n",
      " 3.28543689 3.26118932 3.28543689 3.28131068 3.26601942 3.30216019\n",
      " 3.31092233 3.31237864 3.30174757 3.31628641 3.32354369 3.32912621\n",
      " 3.33881068 3.32572816 3.34296117 3.33281553 3.31917476 3.2934466\n",
      " 3.27063107 3.32621359 3.33907767 3.33932039 3.39956311 3.39587379\n",
      " 3.41553398 3.40533981 3.41868932 3.40873786 3.40315534 3.37864078\n",
      " 3.38956311 3.43713592 3.42645631 3.40946602 3.40364078 3.41771845\n",
      " 3.44271845 3.42864078 3.39466019 3.39296117 3.35485437 3.29854369\n",
      " 3.32524272 3.36868932 3.32864078 3.32645631 3.3757767  3.36432039\n",
      " 3.34271845 3.34830097 3.32014563 3.33276699 3.37839806 3.40194175\n",
      " 3.40752427 3.39490291 3.41601942 3.4059466  3.31432039 3.32524272\n",
      " 3.3276699  3.37985437 3.29466019 3.30145631 3.29150485 3.25509709\n",
      " 3.23640777 3.22400485 3.17621359 3.14902913 3.20315534 3.20873786\n",
      " 3.21043689 3.21674757 3.20631068 3.24514563 3.19805825 3.19101942\n",
      " 3.11067961 3.1092233  3.20509709 3.20315534 3.13276699 3.23058252\n",
      " 3.18968447 3.22621359 3.20558252 3.23956311 3.25582524 3.26213592\n",
      " 3.29368932 3.28834952 3.21456311 3.23932039 3.18737864 3.20339806\n",
      " 3.23235437 3.22305825 3.30351942 3.31334952 3.33524272 3.28446602\n",
      " 3.28859223 3.32014563 3.25582524 3.25631068 3.24053398 3.29490291\n",
      " 3.28713592 3.30970874 3.3342233  3.34296117 3.31237864 3.2788835\n",
      " 3.2506068  3.25145631 3.30509709 3.36589806 3.36601942 3.34247573\n",
      " 3.33956311 3.31650485 3.40582524 3.38883495 3.38225728 3.40995146\n",
      " 3.41286408 3.4184466  3.41674757 3.41723301 3.42111651 3.44635922\n",
      " 3.45097087 3.45121359 3.4407767  3.44223301 3.41419903 3.43470874\n",
      " 3.43543689 3.43203884 3.43470874 3.40995146 3.42621359 3.42305825\n",
      " 3.42014563 3.50315534 3.48956311 3.48325243 3.49296117 3.50461165\n",
      " 3.55800971 3.57378641 3.56165048 3.55873786 3.56067961 3.56092233\n",
      " 3.54053398 3.53507282 3.49757282 3.47803398 3.51067961 3.49441748\n",
      " 3.50351942 3.50728155 3.54708738 3.5467233  3.535      3.52160194\n",
      " 3.5        3.4776699  3.47961165 3.46820388 3.49708738 3.53252427\n",
      " 3.54854369 3.53932039 3.4803301  3.48082524 3.43252427 3.42281553\n",
      " 3.43276699 3.43082524 3.43082524 3.46674757 3.43592233 3.46990291\n",
      " 3.44292718 3.39126214 3.35048544 3.35339806 3.3559466  3.34441748\n",
      " 3.29926942 3.29368932 3.30995146 3.37694175 3.37839806 3.38470874\n",
      " 3.43082524 3.42354369 3.40606796 3.43349515 3.44951456 3.45036408\n",
      " 3.43325243 3.42839806 3.45667476 3.4461165  3.43446602 3.45808252\n",
      " 3.4815534  3.48325243 3.4618932  3.44915291 3.48956311 3.52839806\n",
      " 3.50218447 3.5223301  3.4657767  3.45509709 3.44053398 3.43596117\n",
      " 3.39878641 3.4565534  3.54514563 3.53723544 3.5526699  3.54294903\n",
      " 3.53275728 3.54174757 3.56990291 3.56966019 3.56723301 3.56966019\n",
      " 3.62548544 3.62645631 3.64684466 3.64247573 3.65679612 3.64247573\n",
      " 3.63349515 3.67087379 3.62949029 3.66893204 3.66626214 3.66407767\n",
      " 3.68446602 3.68373786 3.68980583 3.69298544 3.69635922 3.69199029\n",
      " 3.71966019 3.67330097 3.65097087 3.68665048 3.61650485 3.64126214\n",
      " 3.68713592 3.67985437 3.69199029 3.71165048 3.75669903 3.75\n",
      " 3.74490291 3.77281553 3.78713592 3.77864078 3.78410194 3.80412621\n",
      " 3.78228155 3.76140777 3.7526699  3.7788835  3.74657767 3.77669903\n",
      " 3.76092233 3.79101942 3.79101942 3.88902782 3.78762136 3.80631068\n",
      " 3.86383495 3.85436893 3.85121359 3.80461165 3.79150485 3.765\n",
      " 3.82063107 3.76480582 3.74126214 3.77378641 3.79053398 3.82961165\n",
      " 3.83203884 3.84757282 3.8407767  3.86650485 3.87572816 3.84174757\n",
      " 3.87742718 3.91669903 3.92669903 3.94659951 3.96626214 3.96456311\n",
      " 3.95342233 3.96941748 4.01043689 4.03191748 4.0131068  4.05194175\n",
      " 4.05169903 4.05752427 4.02742718 4.0157767  4.0123301  4.03640777\n",
      " 4.01019417 4.025      3.96711165 3.98907767 3.96990291 3.91436893\n",
      " 3.94975728 4.         4.         3.95868932 3.92597087 3.98567961\n",
      " 3.96055825 3.99126214 4.02269417 3.96723301 3.86893204 3.86092233\n",
      " 3.81213592 3.84890777 3.8868932  3.90970874 3.89368932 3.91650485\n",
      " 3.91286408 3.91456311 3.95679612 3.97924757 4.0657767  4.06407767\n",
      " 4.00951456 4.00800971 4.08143204 4.06614078 4.07645874 4.09878641\n",
      " 4.10606796 4.11407767 4.10533981 4.09029126 4.10024272 4.10461165\n",
      " 4.09199029 4.09194175 4.09490291 4.14223301 4.14927185 4.14320388\n",
      " 4.11966019 4.10631068 4.12135922 4.10946602 4.10463592 4.11674757\n",
      " 4.09563107 4.03834952 4.025      3.99927184 4.01893204 3.99417476\n",
      " 4.03058252 4.04417476 4.02912621 3.96432039 3.97839806 3.98470874\n",
      " 3.97208738 3.99004854 3.99004854 3.99004854 3.99004854 3.99004854\n",
      " 3.99004854 3.99004854 3.99004854 3.99004854 4.13373786 4.15218447\n",
      " 4.20026699 4.19320388 4.14368932 4.12451456 4.11480583 4.10291262\n",
      " 4.11868932 4.09973301 4.07791262 4.11019418 4.10631068 4.0684466\n",
      " 4.09927184 4.06383495 4.         4.10606796 4.01941748 4.01650485\n",
      " 4.14902913 4.11893204 4.17645631 4.20436893 4.23271845 4.23300971\n",
      " 4.25752427 4.23713592 4.25121359 4.27063107 4.27742718 4.30024272\n",
      " 4.27888349 4.26674757 4.27694175 4.29199029 4.27839806 4.30024272\n",
      " 4.24587379 4.30315534 4.3038835  5.16660281 5.16660281 4.35121359\n",
      " 4.37014563 4.35485437 4.34538835 4.33179612 4.36674757 4.38859223\n",
      " 4.3842233  4.38543689 4.39611651 4.39320388 4.38179612 4.36286408\n",
      " 4.36237864 4.34320388 4.39174757 4.40291262 4.38713592 4.33786408\n",
      " 4.32354369 4.32305825 4.34990291 4.33616505 4.41019417 4.40509709\n",
      " 4.40679612 4.43033981 4.44004854 4.4625     4.46225728 4.46165048\n",
      " 4.48276699 4.43980582 4.43980582 4.43895631 4.42621359 4.45339806\n",
      " 4.45436893 4.45436893 4.45728155 4.4098301  4.45800971 4.48203883\n",
      " 4.47621359 4.45716019 4.47038835 4.47330097 4.43665049 4.34199029\n",
      " 4.32063107 4.34635922 4.30461165 4.35024272 4.32475728 4.22742718\n",
      " 4.25691748 4.25169903 4.30776699 4.36116505 4.41917476 4.41699029\n",
      " 4.36917476 4.44199029 4.46650485 4.46650485 4.46650485 4.44223301\n",
      " 4.4684466  4.46334951 4.4881068  4.48640777 4.48665049 4.51019417\n",
      " 4.52160194 4.48980583 4.55291262 4.55       4.56       4.56\n",
      " 4.56       4.54       4.54563107 4.49466019 4.48203883 4.52257282\n",
      " 4.55485437 4.53058252 4.55696602 4.51941748 4.50072816 4.52208738\n",
      " 4.48956311 4.48009709 4.50218447 4.53907767 4.56917476 4.58446602\n",
      " 4.57839806 4.52427185 4.47427184 4.40558252 4.44550971 4.49271845\n",
      " 4.54101942 4.44029369 4.47087379 4.51759709 4.52402913 4.53980583\n",
      " 3.88902782 3.88902782 3.88902782 4.52160194 4.53580097 4.55703884\n",
      " 4.57063107 4.57099515 4.56456311 4.57330097 4.53349515 4.56019418\n",
      " 4.60643204 4.56213592 4.55521845 4.61067961 4.58883495 4.54854369\n",
      " 4.56432039 4.58106796 4.55218447 4.59053398 4.60169903 4.62014563\n",
      " 4.64854369 4.64514563 4.66917476 4.67669903 4.68191748 4.67961165\n",
      " 4.68907767 4.71966019 4.74211165 4.74757282 4.74708738 4.73106796\n",
      " 4.69757282 4.7118932  4.7157767  4.72888349 4.76347087 4.76893204\n",
      " 4.75582524 4.75436893 4.72572815 4.74708738 4.74368932 4.75291262\n",
      " 4.75048544 4.78228155 4.78713592 4.81067961 4.79393204 4.78446602\n",
      " 4.77208738 4.76553398 4.7631068  4.7961165  4.78713592 4.80485437\n",
      " 4.75024272 4.79878398 4.78980583 4.81067961 4.82135922 4.82160194\n",
      " 4.79902913 4.80097087 4.78033981 4.78106796 4.68665049 4.6723301\n",
      " 4.70606796 4.66043689 4.6618932  4.63665048 4.70376214 4.6973301\n",
      " 4.69029126 4.72912621 4.75145631 4.75048544 4.79029126 4.81529126\n",
      " 4.82815534 4.84223301 4.83470874 4.8592233  4.86237864 4.86043689\n",
      " 4.85776699 4.87160194 4.86917476 4.86650485 4.85946845 4.88131068\n",
      " 4.86868932]\n"
     ]
    }
   ],
   "source": [
    "print(\"Now Replacing all elements of the independent variable which are less than 2 with mean\")\n",
    "X[X < 2] = X.mean()\n",
    "print(X)"
   ]
  },
  {
   "cell_type": "code",
   "execution_count": 15,
   "metadata": {},
   "outputs": [
    {
     "data": {
      "image/png": "[encoded data removed]",
      "text/plain": [
       "<Figure size 432x288 with 1 Axes>"
      ]
     },
     "metadata": {
      "needs_background": "light"
     },
     "output_type": "display_data"
    }
   ],
   "source": [
    "# create box and whisker plot\n",
    "plt.boxplot(X)\n",
    "# show line plot\n",
    "plt.show()"
   ]
  },
  {
   "cell_type": "markdown",
   "metadata": {},
   "source": [
    "# Performing Analysis on the Cleaned Data"
   ]
  },
  {
   "cell_type": "code",
   "execution_count": 16,
   "metadata": {},
   "outputs": [],
   "source": [
    "# Import Statements\n",
    "import seaborn as sns\n",
    "from sklearn.linear_model import LinearRegression\n",
    "from sklearn.metrics import mean_squared_error\n",
    "from sklearn.metrics import r2_score"
   ]
  },
  {
   "cell_type": "code",
   "execution_count": 17,
   "metadata": {},
   "outputs": [],
   "source": [
    "from sklearn.model_selection import train_test_split\n",
    "\n",
    "X_train, X_test, Y_train, Y_test = train_test_split(X, Y, test_size=0.2, random_state=30)"
   ]
  },
  {
   "cell_type": "code",
   "execution_count": 18,
   "metadata": {},
   "outputs": [
    {
     "data": {
      "text/plain": [
       "LinearRegression(copy_X=True, fit_intercept=True, n_jobs=None,\n",
       "         normalize=False)"
      ]
     },
     "execution_count": 18,
     "metadata": {},
     "output_type": "execute_result"
    }
   ],
   "source": [
    "# fit the regression model\n",
    "regressor = LinearRegression()\n",
    "regressor.fit(X_test.reshape(-1,1) ,Y_test)"
   ]
  },
  {
   "cell_type": "code",
   "execution_count": 19,
   "metadata": {},
   "outputs": [],
   "source": [
    "Y_predict = regressor.predict(X_test.reshape(-1,1))"
   ]
  },
  {
   "cell_type": "code",
   "execution_count": 20,
   "metadata": {},
   "outputs": [
    {
     "data": {
      "text/plain": [
       "array([184.26303242, 176.50269809, 165.49193662, 145.39354266,\n",
       "       178.6825673 , 186.65604436, 146.06203588, 143.52369931,\n",
       "       140.90785627, 164.21792417, 157.41673227, 210.78384026,\n",
       "       131.91710691, 164.21792417, 140.10372675, 162.21244453,\n",
       "       135.43396253, 177.70404825, 195.99557283, 137.08097481,\n",
       "       129.6016014 , 142.99084238, 149.42872274, 176.34768517,\n",
       "       134.90110564, 145.92639959, 139.40616861, 137.68358753,\n",
       "       183.4589029 , 135.76336498, 183.64298072, 140.66564859,\n",
       "       185.76472008, 165.43865091, 163.82070357, 187.78957637,\n",
       "       151.71031915, 145.87795806, 177.11306146, 168.19884974,\n",
       "       194.03853472, 173.29586829, 177.46184056, 184.20490256,\n",
       "       155.74065508, 158.40493966, 169.9534022 , 182.8388512 ,\n",
       "       164.53763833, 183.48796781, 155.895668  , 180.02924204,\n",
       "       183.4589029 , 195.90837806, 150.12143673, 178.1845883 ,\n",
       "       163.82070357, 139.41585694, 152.09785146, 134.53294996,\n",
       "       156.4188366 , 141.18881719, 155.38218773, 180.45552759,\n",
       "       140.51063567, 151.59405947, 186.28788868, 194.03853472,\n",
       "       163.38957389, 168.46140288, 174.24532244, 136.6643776 ,\n",
       "       168.58735084, 163.6075608 , 145.74629395, 183.11012383,\n",
       "       177.0161784 , 167.88979271, 151.17746226, 179.67077465,\n",
       "       157.90114768, 190.92858798, 139.0186363 , 159.25751071,\n",
       "       146.13954236, 150.80930657, 174.03217967, 159.32532886,\n",
       "       160.80763993, 189.63035477, 183.75924044, 131.9267952 ,\n",
       "       135.69554683, 138.04980558, 135.93775452, 194.17417101,\n",
       "       194.69249547, 175.02038705, 137.08097481, 141.89606365,\n",
       "       164.63452139, 138.29201326, 137.99167572, 176.20236055,\n",
       "       165.12378093, 151.92346192, 128.60370573, 165.6711703 ,\n",
       "       198.89237676, 195.63710543, 144.26001069, 182.66930585,\n",
       "       135.14331332, 194.38731379, 132.53715861, 192.78874303,\n",
       "       178.1981519 , 166.76594903, 140.97567445, 163.82070357,\n",
       "       162.49340545, 186.11349914, 193.31191164, 199.39616878,\n",
       "       163.01657405, 140.21998646, 149.30761892, 146.19767218,\n",
       "       162.35873795, 139.40616861, 177.86874945, 178.04313898,\n",
       "       140.7819083 , 194.677963  ])"
      ]
     },
     "execution_count": 20,
     "metadata": {},
     "output_type": "execute_result"
    }
   ],
   "source": [
    "Y_predict"
   ]
  },
  {
   "cell_type": "markdown",
   "metadata": {},
   "source": [
    "###### Calculating the mean square "
   ]
  },
  {
   "cell_type": "code",
   "execution_count": 21,
   "metadata": {},
   "outputs": [
    {
     "data": {
      "text/plain": [
       "13.955863620130062"
      ]
     },
     "execution_count": 21,
     "metadata": {},
     "output_type": "execute_result"
    }
   ],
   "source": [
    "# Calculating the mean square for Error \n",
    "mean_squared_error(Y_test,Y_predict)"
   ]
  },
  {
   "cell_type": "markdown",
   "metadata": {},
   "source": [
    "###### Calculating the $R^2$ value"
   ]
  },
  {
   "cell_type": "code",
   "execution_count": 22,
   "metadata": {},
   "outputs": [
    {
     "data": {
      "text/plain": [
       "0.9670753789043635"
      ]
     },
     "execution_count": 22,
     "metadata": {},
     "output_type": "execute_result"
    }
   ],
   "source": [
    "r2_score(Y_test, Y_predict)  "
   ]
  },
  {
   "cell_type": "markdown",
   "metadata": {},
   "source": [
    "# Visualizing the model"
   ]
  },
  {
   "cell_type": "code",
   "execution_count": 23,
   "metadata": {},
   "outputs": [
    {
     "data": {
      "text/plain": [
       "<matplotlib.collections.PathCollection at 0x1a1f7bfcc0>"
      ]
     },
     "execution_count": 23,
     "metadata": {},
     "output_type": "execute_result"
    },
    {
     "data": {
      "image/png": "[encoded data removed]",
      "text/plain": [
       "<Figure size 432x288 with 1 Axes>"
      ]
     },
     "metadata": {
      "needs_background": "light"
     },
     "output_type": "display_data"
    }
   ],
   "source": [
    "# Scatterplot \n",
    "plt.scatter(Y_test,Y_predict)"
   ]
  },
  {
   "cell_type": "markdown",
   "metadata": {},
   "source": [
    "The high $R^2$ value of 0.9670753789043635 and the small MSE value of 13.955863620130062 shows that this is a good model. This is also backed up the the visual result in scatterplot. "
   ]
  },
  {
   "cell_type": "markdown",
   "metadata": {},
   "source": [
    "### *Helpful Websites*"
   ]
  },
  {
   "cell_type": "markdown",
   "metadata": {},
   "source": [
    "<https://www.youtube.com/watch?v=NUXdtN1W1FE>"
   ]
  }
 ],
 "metadata": {
  "kernelspec": {
   "display_name": "Python 3",
   "language": "python",
   "name": "python3"
  },
  "language_info": {
   "codemirror_mode": {
    "name": "ipython",
    "version": 3
   },
   "file_extension": ".py",
   "mimetype": "text/x-python",
   "name": "python",
   "nbconvert_exporter": "python",
   "pygments_lexer": "ipython3",
   "version": "3.7.3"
  }
 },
 "nbformat": 4,
 "nbformat_minor": 2
}
